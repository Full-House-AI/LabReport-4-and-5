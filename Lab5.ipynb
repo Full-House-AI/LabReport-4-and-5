{
  "nbformat": 4,
  "nbformat_minor": 0,
  "metadata": {
    "colab": {
      "provenance": []
    },
    "kernelspec": {
      "name": "ir",
      "display_name": "R"
    },
    "language_info": {
      "name": "R"
    }
  },
  "cells": [
    {
      "cell_type": "markdown",
      "source": [
        "Problem 1:\n",
        "A table containing grades earned by students in respective\n",
        "courses is made available to you in (codes folder). Consider\n",
        "grades earned in each of the courses as random variables and\n",
        "learn the dependencies between courses."
      ],
      "metadata": {
        "id": "-WjNTU6gR4CQ"
      }
    },
    {
      "cell_type": "code",
      "execution_count": null,
      "metadata": {
        "colab": {
          "base_uri": "https://localhost:8080/",
          "height": 810
        },
        "id": "0Lg8HvH_oGfZ",
        "outputId": "1e4f3e3c-d92d-4cf4-f5d9-4af88b1b0508"
      },
      "outputs": [
        {
          "output_type": "stream",
          "name": "stderr",
          "text": [
            "Installing package into ‘/usr/local/lib/R/site-library’\n",
            "(as ‘lib’ is unspecified)\n",
            "\n",
            "Installing package into ‘/usr/local/lib/R/site-library’\n",
            "(as ‘lib’ is unspecified)\n",
            "\n"
          ]
        },
        {
          "output_type": "display_data",
          "data": {
            "text/html": [
              "<table class=\"dataframe\">\n",
              "<caption>A data.frame: 6 × 9</caption>\n",
              "<thead>\n",
              "\t<tr><th></th><th scope=col>EC100</th><th scope=col>EC160</th><th scope=col>IT101</th><th scope=col>IT161</th><th scope=col>MA101</th><th scope=col>PH100</th><th scope=col>PH160</th><th scope=col>HS101</th><th scope=col>QP</th></tr>\n",
              "\t<tr><th></th><th scope=col>&lt;chr&gt;</th><th scope=col>&lt;chr&gt;</th><th scope=col>&lt;chr&gt;</th><th scope=col>&lt;chr&gt;</th><th scope=col>&lt;chr&gt;</th><th scope=col>&lt;chr&gt;</th><th scope=col>&lt;chr&gt;</th><th scope=col>&lt;chr&gt;</th><th scope=col>&lt;chr&gt;</th></tr>\n",
              "</thead>\n",
              "<tbody>\n",
              "\t<tr><th scope=row>1</th><td>BC</td><td>CC</td><td>BB</td><td>BC</td><td>CC</td><td>BC</td><td>AA</td><td>BB</td><td>y</td></tr>\n",
              "\t<tr><th scope=row>2</th><td>CC</td><td>BC</td><td>BB</td><td>BB</td><td>CC</td><td>BC</td><td>AB</td><td>BB</td><td>y</td></tr>\n",
              "\t<tr><th scope=row>3</th><td>AB</td><td>BB</td><td>AB</td><td>AB</td><td>BB</td><td>CC</td><td>BC</td><td>AB</td><td>y</td></tr>\n",
              "\t<tr><th scope=row>4</th><td>BC</td><td>CC</td><td>BB</td><td>BB</td><td>BB</td><td>BB</td><td>BC</td><td>BB</td><td>y</td></tr>\n",
              "\t<tr><th scope=row>5</th><td>BC</td><td>AB</td><td>CD</td><td>BC</td><td>BC</td><td>BC</td><td>BC</td><td>CD</td><td>y</td></tr>\n",
              "\t<tr><th scope=row>6</th><td>DD</td><td>CC</td><td>DD</td><td>CD</td><td>CD</td><td>CC</td><td>BC</td><td>BC</td><td>n</td></tr>\n",
              "</tbody>\n",
              "</table>\n"
            ],
            "text/markdown": "\nA data.frame: 6 × 9\n\n| <!--/--> | EC100 &lt;chr&gt; | EC160 &lt;chr&gt; | IT101 &lt;chr&gt; | IT161 &lt;chr&gt; | MA101 &lt;chr&gt; | PH100 &lt;chr&gt; | PH160 &lt;chr&gt; | HS101 &lt;chr&gt; | QP &lt;chr&gt; |\n|---|---|---|---|---|---|---|---|---|---|\n| 1 | BC | CC | BB | BC | CC | BC | AA | BB | y |\n| 2 | CC | BC | BB | BB | CC | BC | AB | BB | y |\n| 3 | AB | BB | AB | AB | BB | CC | BC | AB | y |\n| 4 | BC | CC | BB | BB | BB | BB | BC | BB | y |\n| 5 | BC | AB | CD | BC | BC | BC | BC | CD | y |\n| 6 | DD | CC | DD | CD | CD | CC | BC | BC | n |\n\n",
            "text/latex": "A data.frame: 6 × 9\n\\begin{tabular}{r|lllllllll}\n  & EC100 & EC160 & IT101 & IT161 & MA101 & PH100 & PH160 & HS101 & QP\\\\\n  & <chr> & <chr> & <chr> & <chr> & <chr> & <chr> & <chr> & <chr> & <chr>\\\\\n\\hline\n\t1 & BC & CC & BB & BC & CC & BC & AA & BB & y\\\\\n\t2 & CC & BC & BB & BB & CC & BC & AB & BB & y\\\\\n\t3 & AB & BB & AB & AB & BB & CC & BC & AB & y\\\\\n\t4 & BC & CC & BB & BB & BB & BB & BC & BB & y\\\\\n\t5 & BC & AB & CD & BC & BC & BC & BC & CD & y\\\\\n\t6 & DD & CC & DD & CD & CD & CC & BC & BC & n\\\\\n\\end{tabular}\n",
            "text/plain": [
              "  EC100 EC160 IT101 IT161 MA101 PH100 PH160 HS101 QP\n",
              "1 BC    CC    BB    BC    CC    BC    AA    BB    y \n",
              "2 CC    BC    BB    BB    CC    BC    AB    BB    y \n",
              "3 AB    BB    AB    AB    BB    CC    BC    AB    y \n",
              "4 BC    CC    BB    BB    BB    BB    BC    BB    y \n",
              "5 BC    AB    CD    BC    BC    BC    BC    CD    y \n",
              "6 DD    CC    DD    CD    CD    CC    BC    BC    n "
            ]
          },
          "metadata": {}
        },
        {
          "output_type": "display_data",
          "data": {
            "text/plain": [
              "plot without title"
            ],
            "image/png": "[encoded data removed]"
          },
          "metadata": {
            "image/png": {
              "width": 420,
              "height": 420
            }
          }
        }
      ],
      "source": [
        "# Load required packages\n",
        "install.packages(\"googledrive\")\n",
        "library(\"googledrive\")\n",
        "install.packages(\"bnlearn\")\n",
        "library(bnlearn)\n",
        "\n",
        "# Define possible grade values\n",
        "grades <- c(\"AA\", \"AB\", \"BB\", \"BC\", \"CC\", \"CD\", \"DD\", \"F\")\n",
        "\n",
        "# Load course grades data\n",
        "course.grades <- read.table(\"/2020_bn_nb_data.txt\", head = TRUE)\n",
        "head(course.grades)\n",
        "\n",
        "# Convert columns to factors\n",
        "course.grades <- lapply(course.grades, as.factor)\n",
        "course.grades <- data.frame(course.grades)\n",
        "\n",
        "# Build a Bayesian network using hill-climbing algorithm and K2 score metric\n",
        "course.grades.net <- hc(course.grades, score = \"k2\")\n",
        "\n",
        "# Visualize the Bayesian network\n",
        "plot(course.grades.net)\n",
        "\n",
        "\n",
        "\n"
      ]
    },
    {
      "cell_type": "markdown",
      "source": [
        "Problem 2: Using the data, learn the CPTs for each course node."
      ],
      "metadata": {
        "id": "tHsSfTwMR2S9"
      }
    },
    {
      "cell_type": "code",
      "source": [
        "course.grades.bn.fit <- bn.fit(course.grades.net, course.grades )\n",
        "print(course.grades.bn.fit)\n",
        "prob <- 0.0\n",
        "ans = \"\""
      ],
      "metadata": {
        "id": "-q5hNBAOE0Gt",
        "colab": {
          "base_uri": "https://localhost:8080/"
        },
        "outputId": "04a6729c-4d79-43fb-80af-55474d6ec401"
      },
      "execution_count": null,
      "outputs": [
        {
          "output_type": "stream",
          "name": "stdout",
          "text": [
            "\n",
            "  Bayesian network parameters\n",
            "\n",
            "  Parameters of node EC100 (multinomial distribution)\n",
            "\n",
            "Conditional probability table:\n",
            " \n",
            "     MA101\n",
            "EC100         AA         AB         BB         BC         CC         CD\n",
            "   AA 0.75000000 0.07692308 0.03846154 0.01851852 0.00000000 0.00000000\n",
            "   AB 0.00000000 0.46153846 0.25000000 0.05555556 0.00000000 0.00000000\n",
            "   BB 0.25000000 0.23076923 0.32692308 0.22222222 0.04081633 0.00000000\n",
            "   BC 0.00000000 0.15384615 0.28846154 0.27777778 0.32653061 0.00000000\n",
            "   CC 0.00000000 0.07692308 0.09615385 0.24074074 0.32653061 0.04166667\n",
            "   CD 0.00000000 0.00000000 0.00000000 0.12962963 0.26530612 0.33333333\n",
            "   DD 0.00000000 0.00000000 0.00000000 0.03703704 0.04081633 0.50000000\n",
            "   F  0.00000000 0.00000000 0.00000000 0.01851852 0.00000000 0.12500000\n",
            "     MA101\n",
            "EC100         DD          F\n",
            "   AA 0.00000000 0.00000000\n",
            "   AB 0.00000000 0.00000000\n",
            "   BB 0.00000000 0.00000000\n",
            "   BC 0.00000000 0.00000000\n",
            "   CC 0.00000000 0.00000000\n",
            "   CD 0.04761905 0.00000000\n",
            "   DD 0.19047619 0.00000000\n",
            "   F  0.76190476 1.00000000\n",
            "\n",
            "  Parameters of node EC160 (multinomial distribution)\n",
            "\n",
            "Conditional probability table:\n",
            " \n",
            "     QP\n",
            "EC160          n          y\n",
            "   AA 0.00000000 0.07500000\n",
            "   AB 0.00000000 0.10000000\n",
            "   BB 0.01388889 0.18750000\n",
            "   BC 0.01388889 0.36250000\n",
            "   CC 0.15277778 0.22500000\n",
            "   CD 0.44444444 0.03125000\n",
            "   DD 0.26388889 0.01875000\n",
            "   F  0.11111111 0.00000000\n",
            "\n",
            "  Parameters of node IT101 (multinomial distribution)\n",
            "\n",
            "Conditional probability table:\n",
            " \n",
            "     QP\n",
            "IT101          n          y\n",
            "   AA 0.00000000 0.07500000\n",
            "   AB 0.00000000 0.15625000\n",
            "   BB 0.04166667 0.19375000\n",
            "   BC 0.02777778 0.29375000\n",
            "   CC 0.13888889 0.20000000\n",
            "   CD 0.30555556 0.08125000\n",
            "   DD 0.31944444 0.00000000\n",
            "   F  0.16666667 0.00000000\n",
            "\n",
            "  Parameters of node IT161 (multinomial distribution)\n",
            "\n",
            "Conditional probability table:\n",
            " \n",
            "     IT101\n",
            "IT161         AA         AB         BB         BC         CC         CD\n",
            "   AA 0.58333333 0.24000000 0.14705882 0.04081633 0.00000000 0.00000000\n",
            "   AB 0.16666667 0.40000000 0.29411765 0.02040816 0.04761905 0.00000000\n",
            "   BB 0.16666667 0.24000000 0.32352941 0.20408163 0.11904762 0.02857143\n",
            "   BC 0.08333333 0.04000000 0.20588235 0.36734694 0.38095238 0.17142857\n",
            "   CC 0.00000000 0.04000000 0.00000000 0.24489796 0.33333333 0.31428571\n",
            "   CD 0.00000000 0.04000000 0.02941176 0.10204082 0.09523810 0.31428571\n",
            "   DD 0.00000000 0.00000000 0.00000000 0.02040816 0.02380952 0.14285714\n",
            "   F  0.00000000 0.00000000 0.00000000 0.00000000 0.00000000 0.02857143\n",
            "     IT101\n",
            "IT161         DD          F\n",
            "   AA 0.00000000 0.00000000\n",
            "   AB 0.00000000 0.00000000\n",
            "   BB 0.00000000 0.00000000\n",
            "   BC 0.00000000 0.00000000\n",
            "   CC 0.08695652 0.16666667\n",
            "   CD 0.52173913 0.08333333\n",
            "   DD 0.39130435 0.58333333\n",
            "   F  0.00000000 0.16666667\n",
            "\n",
            "  Parameters of node MA101 (multinomial distribution)\n",
            "\n",
            "Conditional probability table:\n",
            "         AA         AB         BB         BC         CC         CD         DD \n",
            "0.01724138 0.05603448 0.22413793 0.23275862 0.21120690 0.10344828 0.09051724 \n",
            "         F \n",
            "0.06465517 \n",
            "\n",
            "  Parameters of node PH100 (multinomial distribution)\n",
            "\n",
            "Conditional probability table:\n",
            " \n",
            "     EC100\n",
            "PH100         AA         AB         BB         BC         CC         CD\n",
            "   AA 0.71428571 0.40909091 0.22857143 0.08333333 0.00000000 0.00000000\n",
            "   AB 0.14285714 0.31818182 0.20000000 0.18750000 0.05555556 0.00000000\n",
            "   BB 0.00000000 0.18181818 0.31428571 0.29166667 0.13888889 0.03448276\n",
            "   BC 0.14285714 0.04545455 0.14285714 0.22916667 0.33333333 0.13793103\n",
            "   CC 0.00000000 0.04545455 0.11428571 0.18750000 0.25000000 0.41379310\n",
            "   CD 0.00000000 0.00000000 0.00000000 0.02083333 0.19444444 0.31034483\n",
            "   DD 0.00000000 0.00000000 0.00000000 0.00000000 0.02777778 0.10344828\n",
            "   F  0.00000000 0.00000000 0.00000000 0.00000000 0.00000000 0.00000000\n",
            "     EC100\n",
            "PH100         DD          F\n",
            "   AA 0.00000000 0.00000000\n",
            "   AB 0.00000000 0.00000000\n",
            "   BB 0.05000000 0.00000000\n",
            "   BC 0.00000000 0.00000000\n",
            "   CC 0.20000000 0.02857143\n",
            "   CD 0.45000000 0.11428571\n",
            "   DD 0.20000000 0.45714286\n",
            "   F  0.10000000 0.40000000\n",
            "\n",
            "  Parameters of node PH160 (multinomial distribution)\n",
            "\n",
            "Conditional probability table:\n",
            " \n",
            "     QP\n",
            "PH160          n          y\n",
            "   AA 0.05555556 0.14375000\n",
            "   AB 0.09722222 0.15625000\n",
            "   BB 0.02777778 0.17500000\n",
            "   BC 0.18055556 0.34375000\n",
            "   CC 0.29166667 0.13750000\n",
            "   CD 0.19444444 0.04375000\n",
            "   DD 0.12500000 0.00000000\n",
            "   F  0.02777778 0.00000000\n",
            "\n",
            "  Parameters of node HS101 (multinomial distribution)\n",
            "\n",
            "Conditional probability table:\n",
            " \n",
            "     QP\n",
            "HS101          n          y\n",
            "   AA 0.00000000 0.26250000\n",
            "   AB 0.00000000 0.21250000\n",
            "   BB 0.05555556 0.22500000\n",
            "   BC 0.12500000 0.16875000\n",
            "   CC 0.18055556 0.08125000\n",
            "   CD 0.19444444 0.03750000\n",
            "   DD 0.37500000 0.01250000\n",
            "   F  0.06944444 0.00000000\n",
            "\n",
            "  Parameters of node QP (multinomial distribution)\n",
            "\n",
            "Conditional probability table:\n",
            " \n",
            "   EC100\n",
            "QP         AA        AB        BB        BC        CC        CD        DD\n",
            "  n 0.0000000 0.0000000 0.0000000 0.0000000 0.1388889 0.4482759 0.9500000\n",
            "  y 1.0000000 1.0000000 1.0000000 1.0000000 0.8611111 0.5517241 0.0500000\n",
            "   EC100\n",
            "QP          F\n",
            "  n 1.0000000\n",
            "  y 0.0000000\n",
            "\n"
          ]
        }
      ]
    },
    {
      "cell_type": "markdown",
      "source": [
        "Problem 3:\n",
        "What grade will a student get in PH100 if he earns DD in\n",
        "EC100, CC in IT101 and CD in MA101"
      ],
      "metadata": {
        "id": "w8mTr4qdSPwx"
      }
    },
    {
      "cell_type": "code",
      "source": [
        "for(value in grades) {\n",
        "  p <- cpquery(course.grades.bn.fit, event = (PH100== value), evidence = (EC100==\"DD\" & IT101==\"CC\" & MA101==\"CD\"))\n",
        "  if(p > prob) {\n",
        "    ans <- value\n",
        "    prob <- p\n",
        "  }\n",
        "}\n",
        "print(ans)"
      ],
      "metadata": {
        "id": "KGV_8XMu68it",
        "colab": {
          "base_uri": "https://localhost:8080/"
        },
        "outputId": "d1d2c353-a3d2-4016-d106-a3813067896e"
      },
      "execution_count": null,
      "outputs": [
        {
          "output_type": "stream",
          "name": "stdout",
          "text": [
            "[1] \"CD\"\n"
          ]
        }
      ]
    },
    {
      "cell_type": "markdown",
      "source": [
        "Problem 4: The last column in the data file indicates whether a student\n",
        "qualifies for an internship program or not. From the given\n",
        "data, take 70 percent data for training and build a naive Bayes\n",
        "classifier (considering that the grades earned in different\n",
        "courses are independent of each other) which takes in the\n",
        "student’s performance and returns the qualification status\n",
        "with a probability. Test your classifier on the remaining 30\n",
        "percent data. Repeat this experiment for 20 random selection\n",
        "of training and testing data. Report results about the accuracy\n",
        "of your classifier."
      ],
      "metadata": {
        "id": "N7NAMxDdSXqj"
      }
    },
    {
      "cell_type": "markdown",
      "source": [
        "For n=1"
      ],
      "metadata": {
        "id": "0fgmgXAYSp0M"
      }
    },
    {
      "cell_type": "code",
      "source": [
        "install.packages(\"e1071\")\n",
        "install.packages(\"caret\")\n",
        "library(caret)\n",
        "library(e1071)\n",
        "set.seed(100)\n",
        "tIndex <- createDataPartition(course.grades$QP, p=0.7)$Resample1\n",
        "train <- course.grades[tIndex, ]\n",
        "test <- course.grades[-tIndex, ]\n",
        "\n",
        "\n",
        "nbc <- naiveBayes(QP~EC100+EC160+IT101+IT161+MA101+PH100+PH160+HS101, data = train)\n",
        "\n",
        "printALL = function(model) {\n",
        "  trainPred = predict(model, newdata = train, type = \"class\")\n",
        "  trainTable = table(train$QP, trainPred)\n",
        "  testPred = predict(nbc, newdata = test, type = \"class\")\n",
        "  testTable = table(test$QP, testPred)\n",
        "  trainAcc = (trainTable[1,1]+trainTable[2,2])/sum(trainTable)\n",
        "  testAcc = (testTable[1,1]+testTable[2,2])/sum(testTable)\n",
        "  message(\"Accuracy\")\n",
        "  cat(\"\\nTraining Accuracy:\", round(trainAcc, 4))\n",
        "  cat(\"\\nTest Accuracy:\", round(testAcc, 4))\n",
        "}\n",
        "\n",
        "printALL(nbc)\n"
      ],
      "metadata": {
        "id": "6CCGhzcEps_-",
        "colab": {
          "base_uri": "https://localhost:8080/"
        },
        "outputId": "43172fee-6918-4089-bb06-b1910e314865"
      },
      "execution_count": null,
      "outputs": [
        {
          "output_type": "stream",
          "name": "stderr",
          "text": [
            "Installing package into ‘/usr/local/lib/R/site-library’\n",
            "(as ‘lib’ is unspecified)\n",
            "\n",
            "Installing package into ‘/usr/local/lib/R/site-library’\n",
            "(as ‘lib’ is unspecified)\n",
            "\n",
            "Accuracy\n",
            "\n"
          ]
        },
        {
          "output_type": "stream",
          "name": "stdout",
          "text": [
            "\n",
            "Training Accuracy: 0.9939\n",
            "Test Accuracy: 0.9855"
          ]
        }
      ]
    },
    {
      "cell_type": "markdown",
      "source": [
        "for n=20"
      ],
      "metadata": {
        "id": "NzdLmODQSsjP"
      }
    },
    {
      "cell_type": "code",
      "source": [
        "# Install and load required packages\n",
        "install.packages(\"e1071\")\n",
        "install.packages(\"caret\")\n",
        "library(caret)\n",
        "library(e1071)\n",
        "\n",
        "# Set seed for reproducibility\n",
        "set.seed(100)\n",
        "\n",
        "# Load data\n",
        "course.grades <- read.table(\"/2020_bn_nb_data.txt\", header = TRUE)\n",
        "\n",
        "# Convert columns to factors\n",
        "course.grades <- lapply(course.grades, as.factor)\n",
        "course.grades <- data.frame(course.grades)\n",
        "\n",
        "# Define function to train and test the classifier and print accuracy\n",
        "printAccuracy <- function(trainIndex, testIndex) {\n",
        "  \n",
        "  # Split data into training and testing sets\n",
        "  train <- course.grades[trainIndex, ]\n",
        "  test <- course.grades[testIndex, ]\n",
        "  \n",
        "  # Train Naive Bayes classifier\n",
        "  nbc <- naiveBayes(QP ~ EC100 + EC160 + IT101 + IT161 + MA101 + PH100 + PH160 + HS101, data = train)\n",
        "  \n",
        "  # Make predictions on training and testing sets\n",
        "  trainPred <- predict(nbc, newdata = train, type = \"class\")\n",
        "  testPred <- predict(nbc, newdata = test, type = \"class\")\n",
        "  \n",
        "  # Create confusion matrix for training and testing sets\n",
        "  trainTable <- table(train$QP, trainPred)\n",
        "  testTable <- table(test$QP, testPred)\n",
        "  \n",
        "  # Calculate accuracy for training and testing sets\n",
        "  trainAcc <- sum(diag(trainTable)) / sum(trainTable)\n",
        "  testAcc <- sum(diag(testTable)) / sum(testTable)\n",
        "  \n",
        "  # Return accuracy results as a data frame\n",
        "  return(data.frame(\"Training Accuracy\" = trainAcc, \"Test Accuracy\" = testAcc))\n",
        "}\n",
        "\n",
        "# Create empty data frame to store accuracy results\n",
        "accuracyResults <- data.frame(matrix(ncol = 2, nrow = 20))\n",
        "colnames(accuracyResults) <- c(\"Training Accuracy\", \"Test Accuracy\")\n",
        "\n",
        "# Repeat experiment for 20 random selections of training and testing data\n",
        "for (i in 1:20) {\n",
        "  # Create random indexes for training and testing sets\n",
        "  tIndex <- createDataPartition(course.grades$QP, p = 0.7, list = FALSE)\n",
        "  trainIndex <- tIndex\n",
        "  testIndex <- setdiff(1:nrow(course.grades), trainIndex)\n",
        "  \n",
        "  # Calculate accuracy and store results in data frame\n",
        "  accuracyResults[i, ] <- printAccuracy(trainIndex, testIndex)\n",
        "}\n",
        "\n",
        "# Print mean and standard deviation of accuracy results\n",
        "cat(\"\\nMean Training Accuracy:\", round(mean(accuracyResults$`Training Accuracy`), 4))\n",
        "cat(\"\\nMean Test Accuracy:\", round(mean(accuracyResults$`Test Accuracy`), 4))\n"
      ],
      "metadata": {
        "colab": {
          "base_uri": "https://localhost:8080/"
        },
        "id": "-3UMhyUMODrO",
        "outputId": "16674812-fff8-4546-daca-eac1b5eacb9f"
      },
      "execution_count": null,
      "outputs": [
        {
          "output_type": "stream",
          "name": "stderr",
          "text": [
            "Installing package into ‘/usr/local/lib/R/site-library’\n",
            "(as ‘lib’ is unspecified)\n",
            "\n",
            "Installing package into ‘/usr/local/lib/R/site-library’\n",
            "(as ‘lib’ is unspecified)\n",
            "\n"
          ]
        },
        {
          "output_type": "stream",
          "name": "stdout",
          "text": [
            "\n",
            "Mean Training Accuracy: 0.9908\n",
            "Mean Test Accuracy: 0.9746"
          ]
        }
      ]
    },
    {
      "cell_type": "markdown",
      "source": [
        " Problem 5:\n",
        "Repeat 4, considering that the grades earned in different\n",
        "courses may be dependent."
      ],
      "metadata": {
        "id": "GDliemzCSudi"
      }
    },
    {
      "cell_type": "code",
      "source": [
        "library(bnlearn)\n",
        "library(caret)\n",
        "# Learn network structure and conditional probability tables\n",
        "course.grades.net <- hc(course.grades, score = \"k2\")\n",
        "course.grades.bn.fit <- bn.fit(course.grades.net, course.grades)\n",
        "\n",
        "# Repeat experiment 20 times and store accuracy results\n",
        "train_acc <- numeric(20)\n",
        "test_acc <- numeric(20)\n",
        "\n",
        "for (i in 1:20) {\n",
        "  # Split data into training and testing sets\n",
        "  set.seed(i)\n",
        "  tIndex <- createDataPartition(course.grades$QP, p=0.7, list=FALSE)\n",
        "  train <- course.grades[tIndex, ]\n",
        "  test <- course.grades[-tIndex, ]\n",
        "  \n",
        "  # Learn conditional probability tables from training data\n",
        "  train_da <- bn.fit(hc(train, score=\"k2\"), train)\n",
        "  \n",
        "  # Predict qualification status on both training and testing data\n",
        "  train_pred <- predict(train_da, node=\"QP\", data=train)\n",
        "  test_pred <- predict(train_da, node=\"QP\", data=test)\n",
        "  \n",
        "  # Calculate accuracy on training and testing data\n",
        "  train_table <- table(train$QP, train_pred)\n",
        "  train_acc[i] <- sum(diag(train_table)) / sum(train_table)\n",
        "  \n",
        "  test_table <- table(test$QP, test_pred)\n",
        "  test_acc[i] <- sum(diag(test_table)) / sum(test_table)\n",
        "}\n",
        "\n",
        "# Print mean accuracy over 20 experiments\n",
        "cat(\"Training accuracy: \", mean(train_acc), \"\\n\")\n",
        "cat(\"Test accuracy: \", mean(test_acc), \"\\n\")\n",
        "\n"
      ],
      "metadata": {
        "colab": {
          "base_uri": "https://localhost:8080/"
        },
        "id": "D0e7KeIoKTzZ",
        "outputId": "e1cea079-cc3b-46c6-c799-b5024bc3e737"
      },
      "execution_count": null,
      "outputs": [
        {
          "output_type": "stream",
          "name": "stderr",
          "text": [
            "Warning message in check.data(x):\n",
            "“variable PH160 has levels that are not observed in the data.”\n",
            "Warning message in check.data(data, allow.missing = TRUE):\n",
            "“variable PH160 has levels that are not observed in the data.”\n",
            "Warning message in check.data(x):\n",
            "“variable IT161 has levels that are not observed in the data.”\n",
            "Warning message in check.data(x):\n",
            "“variable PH160 has levels that are not observed in the data.”\n",
            "Warning message in check.data(data, allow.missing = TRUE):\n",
            "“variable IT161 has levels that are not observed in the data.”\n",
            "Warning message in check.data(data, allow.missing = TRUE):\n",
            "“variable PH160 has levels that are not observed in the data.”\n"
          ]
        },
        {
          "output_type": "stream",
          "name": "stdout",
          "text": [
            "Training accuracy:  0.9079755 \n",
            "Test accuracy:  0.8823491 \n"
          ]
        }
      ]
    }
  ]
}